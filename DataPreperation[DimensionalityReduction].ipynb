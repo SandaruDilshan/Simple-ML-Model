{
 "cells": [
  {
   "cell_type": "markdown",
   "id": "b5bc4869-b860-404d-b801-9e93f34bed21",
   "metadata": {},
   "source": [
    "# Dimensionality reduction"
   ]
  },
  {
   "cell_type": "markdown",
   "id": "d47afe2a-9f1a-4669-bc3e-29c06964409d",
   "metadata": {},
   "source": [
    "##### Reduce complexity in the data set, Two types of dimentionality reduction"
   ]
  },
  {
   "cell_type": "markdown",
   "id": "9f994862-6c4f-488a-8588-bf6c365a5360",
   "metadata": {},
   "source": [
    "#### 01. Feature selection\n",
    "#####  The process of identifying the minimal set of features needed to build a good model"
   ]
  },
  {
   "cell_type": "markdown",
   "id": "c6d8788d-77d1-4856-8d8f-f7f7ecb1a636",
   "metadata": {},
   "source": [
    "#### 02. Feature extraction\n",
    "##### The use of mathematical functions to transform high dimentional data in to low dimentional data"
   ]
  }
 ],
 "metadata": {
  "kernelspec": {
   "display_name": "Python [conda env:base] *",
   "language": "python",
   "name": "conda-base-py"
  },
  "language_info": {
   "codemirror_mode": {
    "name": "ipython",
    "version": 3
   },
   "file_extension": ".py",
   "mimetype": "text/x-python",
   "name": "python",
   "nbconvert_exporter": "python",
   "pygments_lexer": "ipython3",
   "version": "3.12.7"
  }
 },
 "nbformat": 4,
 "nbformat_minor": 5
}
