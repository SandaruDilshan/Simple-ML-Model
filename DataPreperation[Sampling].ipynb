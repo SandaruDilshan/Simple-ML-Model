{
 "cells": [
  {
   "cell_type": "markdown",
   "id": "c03355c0-d559-48f7-8657-69676afbb1da",
   "metadata": {},
   "source": [
    "# Sampling"
   ]
  },
  {
   "cell_type": "markdown",
   "id": "44abd557-ecfa-42df-9e85-f9f135b8e5fb",
   "metadata": {},
   "source": [
    "##### Some times we have to reduce data in our dataset or split the data in to two or more partitrions.\n",
    "##### reason why we have to do this, Data set will larg  or hold data to later use. We have different types of sampling methods."
   ]
  },
  {
   "cell_type": "markdown",
   "id": "e26cd2b9-ec52-45e7-878a-9c3233361630",
   "metadata": {},
   "source": [
    "### 01.Simple Random Sampling (Sampling without replacement)\n",
    "### 02.Sampling with replacement\n",
    "### 03.Stratified random sampling"
   ]
  },
  {
   "cell_type": "code",
   "execution_count": 9,
   "id": "d5b03745-0dcc-4a8b-9043-7f744eee25a6",
   "metadata": {},
   "outputs": [
    {
     "data": {
      "text/html": [
       "<div>\n",
       "<style scoped>\n",
       "    .dataframe tbody tr th:only-of-type {\n",
       "        vertical-align: middle;\n",
       "    }\n",
       "\n",
       "    .dataframe tbody tr th {\n",
       "        vertical-align: top;\n",
       "    }\n",
       "\n",
       "    .dataframe thead th {\n",
       "        text-align: right;\n",
       "    }\n",
       "</style>\n",
       "<table border=\"1\" class=\"dataframe\">\n",
       "  <thead>\n",
       "    <tr style=\"text-align: right;\">\n",
       "      <th></th>\n",
       "      <th>Car</th>\n",
       "      <th>Model</th>\n",
       "      <th>Volume</th>\n",
       "      <th>Weight</th>\n",
       "      <th>CO2</th>\n",
       "    </tr>\n",
       "  </thead>\n",
       "  <tbody>\n",
       "    <tr>\n",
       "      <th>0</th>\n",
       "      <td>Toyoty</td>\n",
       "      <td>Aygo</td>\n",
       "      <td>1000.0</td>\n",
       "      <td>790.0</td>\n",
       "      <td>99.0</td>\n",
       "    </tr>\n",
       "    <tr>\n",
       "      <th>1</th>\n",
       "      <td>Mitsubishi</td>\n",
       "      <td>Space Star</td>\n",
       "      <td>1200.0</td>\n",
       "      <td>1160.0</td>\n",
       "      <td>95.0</td>\n",
       "    </tr>\n",
       "    <tr>\n",
       "      <th>2</th>\n",
       "      <td>Skoda</td>\n",
       "      <td>Citigo</td>\n",
       "      <td>1000.0</td>\n",
       "      <td>929.0</td>\n",
       "      <td>95.0</td>\n",
       "    </tr>\n",
       "    <tr>\n",
       "      <th>3</th>\n",
       "      <td>Fiat</td>\n",
       "      <td>500</td>\n",
       "      <td>900.0</td>\n",
       "      <td>865.0</td>\n",
       "      <td>90.0</td>\n",
       "    </tr>\n",
       "    <tr>\n",
       "      <th>4</th>\n",
       "      <td>Mini</td>\n",
       "      <td>Cooper</td>\n",
       "      <td>1500.0</td>\n",
       "      <td>1140.0</td>\n",
       "      <td>105.0</td>\n",
       "    </tr>\n",
       "  </tbody>\n",
       "</table>\n",
       "</div>"
      ],
      "text/plain": [
       "          Car       Model  Volume  Weight    CO2\n",
       "0      Toyoty        Aygo  1000.0   790.0   99.0\n",
       "1  Mitsubishi  Space Star  1200.0  1160.0   95.0\n",
       "2       Skoda      Citigo  1000.0   929.0   95.0\n",
       "3        Fiat         500   900.0   865.0   90.0\n",
       "4        Mini      Cooper  1500.0  1140.0  105.0"
      ]
     },
     "execution_count": 9,
     "metadata": {},
     "output_type": "execute_result"
    }
   ],
   "source": [
    "import pandas as pd\n",
    "cars = pd.read_csv('data.csv')\n",
    "cars.head()"
   ]
  },
  {
   "cell_type": "markdown",
   "id": "23e6e0c1-7eb2-4f67-afde-6467c5317336",
   "metadata": {},
   "source": [
    "## Split data using Random Sapmling"
   ]
  },
  {
   "cell_type": "markdown",
   "id": "44094790-c638-43e5-97f3-5bdf01527222",
   "metadata": {},
   "source": [
    "#### Before split data we must sepatrate dependent variable from the independent variable\n",
    "##### Asume CO2 column as dependent variable and create dataframe called Y based on that column alone."
   ]
  },
  {
   "cell_type": "code",
   "execution_count": 14,
   "id": "374e22d0-8ed1-44e7-bd59-c7524b426a25",
   "metadata": {},
   "outputs": [
    {
     "data": {
      "text/html": [
       "<div>\n",
       "<style scoped>\n",
       "    .dataframe tbody tr th:only-of-type {\n",
       "        vertical-align: middle;\n",
       "    }\n",
       "\n",
       "    .dataframe tbody tr th {\n",
       "        vertical-align: top;\n",
       "    }\n",
       "\n",
       "    .dataframe thead th {\n",
       "        text-align: right;\n",
       "    }\n",
       "</style>\n",
       "<table border=\"1\" class=\"dataframe\">\n",
       "  <thead>\n",
       "    <tr style=\"text-align: right;\">\n",
       "      <th></th>\n",
       "      <th>CO2</th>\n",
       "    </tr>\n",
       "  </thead>\n",
       "  <tbody>\n",
       "    <tr>\n",
       "      <th>0</th>\n",
       "      <td>99.0</td>\n",
       "    </tr>\n",
       "    <tr>\n",
       "      <th>1</th>\n",
       "      <td>95.0</td>\n",
       "    </tr>\n",
       "    <tr>\n",
       "      <th>2</th>\n",
       "      <td>95.0</td>\n",
       "    </tr>\n",
       "    <tr>\n",
       "      <th>3</th>\n",
       "      <td>90.0</td>\n",
       "    </tr>\n",
       "    <tr>\n",
       "      <th>4</th>\n",
       "      <td>105.0</td>\n",
       "    </tr>\n",
       "  </tbody>\n",
       "</table>\n",
       "</div>"
      ],
      "text/plain": [
       "     CO2\n",
       "0   99.0\n",
       "1   95.0\n",
       "2   95.0\n",
       "3   90.0\n",
       "4  105.0"
      ]
     },
     "execution_count": 14,
     "metadata": {},
     "output_type": "execute_result"
    }
   ],
   "source": [
    "response ='CO2'\n",
    "y = cars[[response]]\n",
    "y.head()"
   ]
  },
  {
   "cell_type": "markdown",
   "id": "6ac3ccf6-208c-4cdc-a761-674d4ae54655",
   "metadata": {},
   "source": [
    "#### Create a dataframe of ther independent variables, Create a list"
   ]
  },
  {
   "cell_type": "code",
   "execution_count": 18,
   "id": "2bdc0cc3-5321-444d-87bc-fd5cc65b9315",
   "metadata": {},
   "outputs": [
    {
     "data": {
      "text/plain": [
       "['Car', 'Model', 'Volume', 'Weight', 'CO2']"
      ]
     },
     "execution_count": 18,
     "metadata": {},
     "output_type": "execute_result"
    }
   ],
   "source": [
    "predictors = list(cars.columns)\n",
    "predictors"
   ]
  },
  {
   "cell_type": "code",
   "execution_count": 20,
   "id": "6fc8c2a0-4d9d-4d48-9d55-f61dd5bb0d52",
   "metadata": {},
   "outputs": [
    {
     "data": {
      "text/plain": [
       "['Car', 'Model', 'Volume', 'Weight']"
      ]
     },
     "execution_count": 20,
     "metadata": {},
     "output_type": "execute_result"
    }
   ],
   "source": [
    "predictors.remove(response)\n",
    "predictors"
   ]
  },
  {
   "cell_type": "markdown",
   "id": "20b8eb3a-9f37-4bae-9555-963c94fc7085",
   "metadata": {},
   "source": [
    "##### Using predictors create datafranme called x based on the remaining column in the list"
   ]
  },
  {
   "cell_type": "code",
   "execution_count": 24,
   "id": "0b5a24af-d5c0-488e-8f9b-d3010f24d369",
   "metadata": {},
   "outputs": [
    {
     "data": {
      "text/html": [
       "<div>\n",
       "<style scoped>\n",
       "    .dataframe tbody tr th:only-of-type {\n",
       "        vertical-align: middle;\n",
       "    }\n",
       "\n",
       "    .dataframe tbody tr th {\n",
       "        vertical-align: top;\n",
       "    }\n",
       "\n",
       "    .dataframe thead th {\n",
       "        text-align: right;\n",
       "    }\n",
       "</style>\n",
       "<table border=\"1\" class=\"dataframe\">\n",
       "  <thead>\n",
       "    <tr style=\"text-align: right;\">\n",
       "      <th></th>\n",
       "      <th>Car</th>\n",
       "      <th>Model</th>\n",
       "      <th>Volume</th>\n",
       "      <th>Weight</th>\n",
       "    </tr>\n",
       "  </thead>\n",
       "  <tbody>\n",
       "    <tr>\n",
       "      <th>0</th>\n",
       "      <td>Toyoty</td>\n",
       "      <td>Aygo</td>\n",
       "      <td>1000.0</td>\n",
       "      <td>790.0</td>\n",
       "    </tr>\n",
       "    <tr>\n",
       "      <th>1</th>\n",
       "      <td>Mitsubishi</td>\n",
       "      <td>Space Star</td>\n",
       "      <td>1200.0</td>\n",
       "      <td>1160.0</td>\n",
       "    </tr>\n",
       "    <tr>\n",
       "      <th>2</th>\n",
       "      <td>Skoda</td>\n",
       "      <td>Citigo</td>\n",
       "      <td>1000.0</td>\n",
       "      <td>929.0</td>\n",
       "    </tr>\n",
       "    <tr>\n",
       "      <th>3</th>\n",
       "      <td>Fiat</td>\n",
       "      <td>500</td>\n",
       "      <td>900.0</td>\n",
       "      <td>865.0</td>\n",
       "    </tr>\n",
       "    <tr>\n",
       "      <th>4</th>\n",
       "      <td>Mini</td>\n",
       "      <td>Cooper</td>\n",
       "      <td>1500.0</td>\n",
       "      <td>1140.0</td>\n",
       "    </tr>\n",
       "  </tbody>\n",
       "</table>\n",
       "</div>"
      ],
      "text/plain": [
       "          Car       Model  Volume  Weight\n",
       "0      Toyoty        Aygo  1000.0   790.0\n",
       "1  Mitsubishi  Space Star  1200.0  1160.0\n",
       "2       Skoda      Citigo  1000.0   929.0\n",
       "3        Fiat         500   900.0   865.0\n",
       "4        Mini      Cooper  1500.0  1140.0"
      ]
     },
     "execution_count": 24,
     "metadata": {},
     "output_type": "execute_result"
    }
   ],
   "source": [
    "x = cars[predictors]\n",
    "x.head()"
   ]
  },
  {
   "cell_type": "markdown",
   "id": "fdbf96da-84f7-4d70-88b4-12fd575c8e4c",
   "metadata": {},
   "source": [
    "### Split data"
   ]
  },
  {
   "cell_type": "code",
   "execution_count": 27,
   "id": "1f0f8677-9af5-4df1-b776-e09b74afa649",
   "metadata": {},
   "outputs": [],
   "source": [
    "from sklearn.model_selection import train_test_split"
   ]
  },
  {
   "cell_type": "code",
   "execution_count": 29,
   "id": "c45fd109-13d3-4894-b0b7-32198ddc3fb3",
   "metadata": {},
   "outputs": [],
   "source": [
    "x_train, x_test, y_train, y_test = train_test_split(x, y)"
   ]
  },
  {
   "cell_type": "markdown",
   "id": "9fcf6d0c-8b58-4940-8ab7-759828cbb3f7",
   "metadata": {},
   "source": [
    "##### x_train dataset hold independent variable in the train dataset (it has 27 rows and 4 columns"
   ]
  },
  {
   "cell_type": "code",
   "execution_count": 34,
   "id": "6344311b-aa3d-4282-bc5d-9f6fab755938",
   "metadata": {},
   "outputs": [
    {
     "data": {
      "text/plain": [
       "(27, 4)"
      ]
     },
     "execution_count": 34,
     "metadata": {},
     "output_type": "execute_result"
    }
   ],
   "source": [
    "x_train.shape"
   ]
  },
  {
   "cell_type": "markdown",
   "id": "9f01d19c-15e6-4abe-81f6-fb36a245ec17",
   "metadata": {},
   "source": [
    "##### x_test dataset hold dependent variable in the train dataset (it has 9 rows and 4 columns"
   ]
  },
  {
   "cell_type": "code",
   "execution_count": 39,
   "id": "d9d27799-8147-400d-82dd-b16630f00a8e",
   "metadata": {
    "scrolled": true
   },
   "outputs": [
    {
     "data": {
      "text/plain": [
       "(9, 4)"
      ]
     },
     "execution_count": 39,
     "metadata": {},
     "output_type": "execute_result"
    }
   ],
   "source": [
    "x_test.shape"
   ]
  },
  {
   "cell_type": "code",
   "execution_count": 43,
   "id": "9c767be9-de9f-4e32-b2e1-9aa5aef68299",
   "metadata": {},
   "outputs": [
    {
     "data": {
      "text/plain": [
       "(27, 1)"
      ]
     },
     "execution_count": 43,
     "metadata": {},
     "output_type": "execute_result"
    }
   ],
   "source": [
    "y_train.shape"
   ]
  },
  {
   "cell_type": "code",
   "execution_count": 45,
   "id": "a41732d2-4455-47f8-8b11-66b6b098ca2d",
   "metadata": {},
   "outputs": [
    {
     "data": {
      "text/plain": [
       "(9, 1)"
      ]
     },
     "execution_count": 45,
     "metadata": {},
     "output_type": "execute_result"
    }
   ],
   "source": [
    "y_test.shape"
   ]
  },
  {
   "cell_type": "markdown",
   "id": "17045b75-5b49-4d36-a2aa-632e8628c878",
   "metadata": {},
   "source": [
    "## Split data using Stratified Random Sampling"
   ]
  },
  {
   "cell_type": "markdown",
   "id": "c5ce0cf9-e4c1-45b7-bc21-0b13ce0cbe71",
   "metadata": {},
   "source": [
    "##### 90% of the data (test_size=1 - 0.1 = 0.9) goes into x_train and y_train (training data)\n",
    "##### 10% of the data goes into x_test and y_test (testing data)."
   ]
  },
  {
   "cell_type": "code",
   "execution_count": 69,
   "id": "9cb64bb3-a8f2-466a-a436-2c420220987a",
   "metadata": {},
   "outputs": [],
   "source": [
    "x_train, x_test, y_train, y_test = train_test_split(x, y, test_size = 0.1, random_state = 20)"
   ]
  },
  {
   "cell_type": "code",
   "execution_count": 75,
   "id": "462cebb9-3110-46a1-8256-5961afff574b",
   "metadata": {},
   "outputs": [
    {
     "data": {
      "text/plain": [
       "Weight\n",
       "1365.0    0.088235\n",
       "929.0     0.058824\n",
       "1112.0    0.058824\n",
       "1415.0    0.058824\n",
       "790.0     0.029412\n",
       "1428.0    0.029412\n",
       "1405.0    0.029412\n",
       "1390.0    0.029412\n",
       "1235.0    0.029412\n",
       "1746.0    0.029412\n",
       "1605.0    0.029412\n",
       "1705.0    0.029412\n",
       "1523.0    0.029412\n",
       "1725.0    0.029412\n",
       "1490.0    0.029412\n",
       "1465.0    0.029412\n",
       "1119.0    0.029412\n",
       "1328.0    0.029412\n",
       "1160.0    0.029412\n",
       "1280.0    0.029412\n",
       "1326.0    0.029412\n",
       "1252.0    0.029412\n",
       "990.0     0.029412\n",
       "980.0     0.029412\n",
       "1150.0    0.029412\n",
       "1109.0    0.029412\n",
       "1140.0    0.029412\n",
       "865.0     0.029412\n",
       "1395.0    0.029412\n",
       "Name: proportion, dtype: float64"
      ]
     },
     "execution_count": 75,
     "metadata": {},
     "output_type": "execute_result"
    }
   ],
   "source": [
    "x['Weight'].value_counts(normalize = True)"
   ]
  },
  {
   "cell_type": "code",
   "execution_count": 79,
   "id": "4f54310a-1221-41a6-be78-a2adc8fc52be",
   "metadata": {},
   "outputs": [
    {
     "data": {
      "text/plain": [
       "Weight\n",
       "1140.0    0.25\n",
       "1415.0    0.25\n",
       "1252.0    0.25\n",
       "1160.0    0.25\n",
       "Name: proportion, dtype: float64"
      ]
     },
     "execution_count": 79,
     "metadata": {},
     "output_type": "execute_result"
    }
   ],
   "source": [
    "x_test['Weight'].value_counts( normalize = True)"
   ]
  },
  {
   "cell_type": "code",
   "execution_count": 91,
   "id": "5a29a66a-bb5d-44a2-89ec-7d1f1715278c",
   "metadata": {},
   "outputs": [],
   "source": [
    "x_train, x_test, y_train, y_test = train_test_split(x, y, \n",
    "                                                    test_size = 0.1, \n",
    "                                                    random_state = 20,\n",
    "                                                    stratify= x['Weight']\n",
    "                                                   )"
   ]
  },
  {
   "cell_type": "code",
   "execution_count": 93,
   "id": "77ac0b7f-7c55-4b96-b025-55220f091b1f",
   "metadata": {},
   "outputs": [
    {
     "data": {
      "text/plain": [
       "Weight\n",
       "1140.0    0.25\n",
       "1415.0    0.25\n",
       "1252.0    0.25\n",
       "1160.0    0.25\n",
       "Name: proportion, dtype: float64"
      ]
     },
     "execution_count": 93,
     "metadata": {},
     "output_type": "execute_result"
    }
   ],
   "source": [
    "x_test['Weight'].value_counts(normalize = True)"
   ]
  },
  {
   "cell_type": "code",
   "execution_count": null,
   "id": "c65ec16e-b18b-43a3-8e83-e9ac32c89bcc",
   "metadata": {},
   "outputs": [],
   "source": []
  }
 ],
 "metadata": {
  "kernelspec": {
   "display_name": "Python [conda env:base] *",
   "language": "python",
   "name": "conda-base-py"
  },
  "language_info": {
   "codemirror_mode": {
    "name": "ipython",
    "version": 3
   },
   "file_extension": ".py",
   "mimetype": "text/x-python",
   "name": "python",
   "nbconvert_exporter": "python",
   "pygments_lexer": "ipython3",
   "version": "3.12.7"
  }
 },
 "nbformat": 4,
 "nbformat_minor": 5
}
