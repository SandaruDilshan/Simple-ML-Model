{
 "cells": [
  {
   "cell_type": "markdown",
   "id": "e9c901f5-4c70-4160-8404-e6c983dd9e65",
   "metadata": {},
   "source": [
    "## Normalization Data"
   ]
  },
  {
   "cell_type": "markdown",
   "id": "dd81fbe0-8ccf-40c3-938e-3e0be696eb9e",
   "metadata": {},
   "source": [
    "import pandas as pd\n",
    "cars = pd.read_csv('data.csv')\n",
    "cars.head()"
   ]
  },
  {
   "cell_type": "markdown",
   "id": "916ca319-cb64-4ede-b2db-def6b3f0094b",
   "metadata": {},
   "source": [
    "#### Normalize CO2 column"
   ]
  },
  {
   "cell_type": "code",
   "execution_count": 12,
   "id": "be32e412-f685-4a8f-adca-ff6a7ff29387",
   "metadata": {},
   "outputs": [
    {
     "data": {
      "text/html": [
       "<div>\n",
       "<style scoped>\n",
       "    .dataframe tbody tr th:only-of-type {\n",
       "        vertical-align: middle;\n",
       "    }\n",
       "\n",
       "    .dataframe tbody tr th {\n",
       "        vertical-align: top;\n",
       "    }\n",
       "\n",
       "    .dataframe thead th {\n",
       "        text-align: right;\n",
       "    }\n",
       "</style>\n",
       "<table border=\"1\" class=\"dataframe\">\n",
       "  <thead>\n",
       "    <tr style=\"text-align: right;\">\n",
       "      <th></th>\n",
       "      <th>CO2</th>\n",
       "    </tr>\n",
       "  </thead>\n",
       "  <tbody>\n",
       "    <tr>\n",
       "      <th>count</th>\n",
       "      <td>35.000000</td>\n",
       "    </tr>\n",
       "    <tr>\n",
       "      <th>mean</th>\n",
       "      <td>102.114286</td>\n",
       "    </tr>\n",
       "    <tr>\n",
       "      <th>std</th>\n",
       "      <td>7.545047</td>\n",
       "    </tr>\n",
       "    <tr>\n",
       "      <th>min</th>\n",
       "      <td>90.000000</td>\n",
       "    </tr>\n",
       "    <tr>\n",
       "      <th>25%</th>\n",
       "      <td>97.500000</td>\n",
       "    </tr>\n",
       "    <tr>\n",
       "      <th>50%</th>\n",
       "      <td>99.000000</td>\n",
       "    </tr>\n",
       "    <tr>\n",
       "      <th>75%</th>\n",
       "      <td>105.000000</td>\n",
       "    </tr>\n",
       "    <tr>\n",
       "      <th>max</th>\n",
       "      <td>120.000000</td>\n",
       "    </tr>\n",
       "  </tbody>\n",
       "</table>\n",
       "</div>"
      ],
      "text/plain": [
       "              CO2\n",
       "count   35.000000\n",
       "mean   102.114286\n",
       "std      7.545047\n",
       "min     90.000000\n",
       "25%     97.500000\n",
       "50%     99.000000\n",
       "75%    105.000000\n",
       "max    120.000000"
      ]
     },
     "execution_count": 12,
     "metadata": {},
     "output_type": "execute_result"
    }
   ],
   "source": [
    "cars[['CO2']].describe()"
   ]
  },
  {
   "cell_type": "markdown",
   "id": "1c474e4c-806d-4fb0-a9a1-da965166c139",
   "metadata": {},
   "source": [
    "#### Create histrogram "
   ]
  },
  {
   "cell_type": "code",
   "execution_count": 21,
   "id": "2dcb4447-f1ba-4a91-9b9b-7a22b66fb086",
   "metadata": {},
   "outputs": [
    {
     "data": {
      "text/plain": [
       "<Axes: ylabel='Frequency'>"
      ]
     },
     "execution_count": 21,
     "metadata": {},
     "output_type": "execute_result"
    },
    {
     "data": {
      "image/png": "[encoded data removed]",
      "text/plain": [
       "<Figure size 1000x600 with 1 Axes>"
      ]
     },
     "metadata": {},
     "output_type": "display_data"
    }
   ],
   "source": [
    "cars[['CO2']].plot( kind = 'hist',figsize = (10, 6))"
   ]
  },
  {
   "cell_type": "markdown",
   "id": "964fad7b-7833-4c61-9867-19aca60f4c09",
   "metadata": {},
   "source": [
    "### Perform Min - Max Normalization"
   ]
  },
  {
   "cell_type": "code",
   "execution_count": 24,
   "id": "268241f9-e03d-44f0-b2bf-a22cdeddbcf6",
   "metadata": {},
   "outputs": [],
   "source": [
    "from sklearn.preprocessing import MinMaxScaler"
   ]
  },
  {
   "cell_type": "code",
   "execution_count": 28,
   "id": "03c9906c-0e51-45db-b10d-fd591d51ab42",
   "metadata": {},
   "outputs": [
    {
     "data": {
      "text/plain": [
       "array([[0.3       ],\n",
       "       [0.16666667],\n",
       "       [0.16666667],\n",
       "       [0.        ],\n",
       "       [0.5       ],\n",
       "       [0.5       ],\n",
       "       [0.        ],\n",
       "       [0.06666667],\n",
       "       [0.26666667],\n",
       "       [0.3       ],\n",
       "       [0.3       ],\n",
       "       [0.36666667],\n",
       "       [0.3       ],\n",
       "       [0.13333333],\n",
       "       [0.23333333],\n",
       "       [0.23333333],\n",
       "       [0.3       ],\n",
       "       [0.46666667],\n",
       "       [0.46666667],\n",
       "       [0.5       ],\n",
       "       [0.13333333],\n",
       "       [0.3       ],\n",
       "       [0.3       ],\n",
       "       [       nan],\n",
       "       [0.3       ],\n",
       "       [0.4       ],\n",
       "       [0.46666667],\n",
       "       [0.8       ],\n",
       "       [0.63333333],\n",
       "       [0.8       ],\n",
       "       [0.83333333],\n",
       "       [0.9       ],\n",
       "       [0.46666667],\n",
       "       [0.6       ],\n",
       "       [0.63333333],\n",
       "       [1.        ]])"
      ]
     },
     "execution_count": 28,
     "metadata": {},
     "output_type": "execute_result"
    }
   ],
   "source": [
    "CO2MinMax = MinMaxScaler().fit_transform(cars[['CO2']])\n",
    "CO2MinMax"
   ]
  },
  {
   "cell_type": "markdown",
   "id": "e4f641eb-8cdd-4f9b-a1da-a495b1def49b",
   "metadata": {},
   "source": [
    "#### Convert this numpy array in to  Data frame using pandas dataframe constructor function "
   ]
  },
  {
   "cell_type": "code",
   "execution_count": 32,
   "id": "95334935-cc77-430e-b859-2d413c171316",
   "metadata": {},
   "outputs": [
    {
     "data": {
      "text/html": [
       "<div>\n",
       "<style scoped>\n",
       "    .dataframe tbody tr th:only-of-type {\n",
       "        vertical-align: middle;\n",
       "    }\n",
       "\n",
       "    .dataframe tbody tr th {\n",
       "        vertical-align: top;\n",
       "    }\n",
       "\n",
       "    .dataframe thead th {\n",
       "        text-align: right;\n",
       "    }\n",
       "</style>\n",
       "<table border=\"1\" class=\"dataframe\">\n",
       "  <thead>\n",
       "    <tr style=\"text-align: right;\">\n",
       "      <th></th>\n",
       "      <th>CO2</th>\n",
       "    </tr>\n",
       "  </thead>\n",
       "  <tbody>\n",
       "    <tr>\n",
       "      <th>0</th>\n",
       "      <td>0.300000</td>\n",
       "    </tr>\n",
       "    <tr>\n",
       "      <th>1</th>\n",
       "      <td>0.166667</td>\n",
       "    </tr>\n",
       "    <tr>\n",
       "      <th>2</th>\n",
       "      <td>0.166667</td>\n",
       "    </tr>\n",
       "    <tr>\n",
       "      <th>3</th>\n",
       "      <td>0.000000</td>\n",
       "    </tr>\n",
       "    <tr>\n",
       "      <th>4</th>\n",
       "      <td>0.500000</td>\n",
       "    </tr>\n",
       "    <tr>\n",
       "      <th>5</th>\n",
       "      <td>0.500000</td>\n",
       "    </tr>\n",
       "    <tr>\n",
       "      <th>6</th>\n",
       "      <td>0.000000</td>\n",
       "    </tr>\n",
       "    <tr>\n",
       "      <th>7</th>\n",
       "      <td>0.066667</td>\n",
       "    </tr>\n",
       "    <tr>\n",
       "      <th>8</th>\n",
       "      <td>0.266667</td>\n",
       "    </tr>\n",
       "    <tr>\n",
       "      <th>9</th>\n",
       "      <td>0.300000</td>\n",
       "    </tr>\n",
       "    <tr>\n",
       "      <th>10</th>\n",
       "      <td>0.300000</td>\n",
       "    </tr>\n",
       "    <tr>\n",
       "      <th>11</th>\n",
       "      <td>0.366667</td>\n",
       "    </tr>\n",
       "    <tr>\n",
       "      <th>12</th>\n",
       "      <td>0.300000</td>\n",
       "    </tr>\n",
       "    <tr>\n",
       "      <th>13</th>\n",
       "      <td>0.133333</td>\n",
       "    </tr>\n",
       "    <tr>\n",
       "      <th>14</th>\n",
       "      <td>0.233333</td>\n",
       "    </tr>\n",
       "    <tr>\n",
       "      <th>15</th>\n",
       "      <td>0.233333</td>\n",
       "    </tr>\n",
       "    <tr>\n",
       "      <th>16</th>\n",
       "      <td>0.300000</td>\n",
       "    </tr>\n",
       "    <tr>\n",
       "      <th>17</th>\n",
       "      <td>0.466667</td>\n",
       "    </tr>\n",
       "    <tr>\n",
       "      <th>18</th>\n",
       "      <td>0.466667</td>\n",
       "    </tr>\n",
       "    <tr>\n",
       "      <th>19</th>\n",
       "      <td>0.500000</td>\n",
       "    </tr>\n",
       "    <tr>\n",
       "      <th>20</th>\n",
       "      <td>0.133333</td>\n",
       "    </tr>\n",
       "    <tr>\n",
       "      <th>21</th>\n",
       "      <td>0.300000</td>\n",
       "    </tr>\n",
       "    <tr>\n",
       "      <th>22</th>\n",
       "      <td>0.300000</td>\n",
       "    </tr>\n",
       "    <tr>\n",
       "      <th>23</th>\n",
       "      <td>NaN</td>\n",
       "    </tr>\n",
       "    <tr>\n",
       "      <th>24</th>\n",
       "      <td>0.300000</td>\n",
       "    </tr>\n",
       "    <tr>\n",
       "      <th>25</th>\n",
       "      <td>0.400000</td>\n",
       "    </tr>\n",
       "    <tr>\n",
       "      <th>26</th>\n",
       "      <td>0.466667</td>\n",
       "    </tr>\n",
       "    <tr>\n",
       "      <th>27</th>\n",
       "      <td>0.800000</td>\n",
       "    </tr>\n",
       "    <tr>\n",
       "      <th>28</th>\n",
       "      <td>0.633333</td>\n",
       "    </tr>\n",
       "    <tr>\n",
       "      <th>29</th>\n",
       "      <td>0.800000</td>\n",
       "    </tr>\n",
       "    <tr>\n",
       "      <th>30</th>\n",
       "      <td>0.833333</td>\n",
       "    </tr>\n",
       "    <tr>\n",
       "      <th>31</th>\n",
       "      <td>0.900000</td>\n",
       "    </tr>\n",
       "    <tr>\n",
       "      <th>32</th>\n",
       "      <td>0.466667</td>\n",
       "    </tr>\n",
       "    <tr>\n",
       "      <th>33</th>\n",
       "      <td>0.600000</td>\n",
       "    </tr>\n",
       "    <tr>\n",
       "      <th>34</th>\n",
       "      <td>0.633333</td>\n",
       "    </tr>\n",
       "    <tr>\n",
       "      <th>35</th>\n",
       "      <td>1.000000</td>\n",
       "    </tr>\n",
       "  </tbody>\n",
       "</table>\n",
       "</div>"
      ],
      "text/plain": [
       "         CO2\n",
       "0   0.300000\n",
       "1   0.166667\n",
       "2   0.166667\n",
       "3   0.000000\n",
       "4   0.500000\n",
       "5   0.500000\n",
       "6   0.000000\n",
       "7   0.066667\n",
       "8   0.266667\n",
       "9   0.300000\n",
       "10  0.300000\n",
       "11  0.366667\n",
       "12  0.300000\n",
       "13  0.133333\n",
       "14  0.233333\n",
       "15  0.233333\n",
       "16  0.300000\n",
       "17  0.466667\n",
       "18  0.466667\n",
       "19  0.500000\n",
       "20  0.133333\n",
       "21  0.300000\n",
       "22  0.300000\n",
       "23       NaN\n",
       "24  0.300000\n",
       "25  0.400000\n",
       "26  0.466667\n",
       "27  0.800000\n",
       "28  0.633333\n",
       "29  0.800000\n",
       "30  0.833333\n",
       "31  0.900000\n",
       "32  0.466667\n",
       "33  0.600000\n",
       "34  0.633333\n",
       "35  1.000000"
      ]
     },
     "execution_count": 32,
     "metadata": {},
     "output_type": "execute_result"
    }
   ],
   "source": [
    "CO2MinMax = pd.DataFrame(CO2MinMax, columns =['CO2'])\n",
    "CO2MinMax"
   ]
  },
  {
   "cell_type": "code",
   "execution_count": 36,
   "id": "4c3dad07-d315-4fe2-add2-6f3ad1df0c60",
   "metadata": {},
   "outputs": [
    {
     "data": {
      "text/html": [
       "<div>\n",
       "<style scoped>\n",
       "    .dataframe tbody tr th:only-of-type {\n",
       "        vertical-align: middle;\n",
       "    }\n",
       "\n",
       "    .dataframe tbody tr th {\n",
       "        vertical-align: top;\n",
       "    }\n",
       "\n",
       "    .dataframe thead th {\n",
       "        text-align: right;\n",
       "    }\n",
       "</style>\n",
       "<table border=\"1\" class=\"dataframe\">\n",
       "  <thead>\n",
       "    <tr style=\"text-align: right;\">\n",
       "      <th></th>\n",
       "      <th>CO2</th>\n",
       "    </tr>\n",
       "  </thead>\n",
       "  <tbody>\n",
       "    <tr>\n",
       "      <th>count</th>\n",
       "      <td>35.000000</td>\n",
       "    </tr>\n",
       "    <tr>\n",
       "      <th>mean</th>\n",
       "      <td>0.403810</td>\n",
       "    </tr>\n",
       "    <tr>\n",
       "      <th>std</th>\n",
       "      <td>0.251502</td>\n",
       "    </tr>\n",
       "    <tr>\n",
       "      <th>min</th>\n",
       "      <td>0.000000</td>\n",
       "    </tr>\n",
       "    <tr>\n",
       "      <th>25%</th>\n",
       "      <td>0.250000</td>\n",
       "    </tr>\n",
       "    <tr>\n",
       "      <th>50%</th>\n",
       "      <td>0.300000</td>\n",
       "    </tr>\n",
       "    <tr>\n",
       "      <th>75%</th>\n",
       "      <td>0.500000</td>\n",
       "    </tr>\n",
       "    <tr>\n",
       "      <th>max</th>\n",
       "      <td>1.000000</td>\n",
       "    </tr>\n",
       "  </tbody>\n",
       "</table>\n",
       "</div>"
      ],
      "text/plain": [
       "             CO2\n",
       "count  35.000000\n",
       "mean    0.403810\n",
       "std     0.251502\n",
       "min     0.000000\n",
       "25%     0.250000\n",
       "50%     0.300000\n",
       "75%     0.500000\n",
       "max     1.000000"
      ]
     },
     "execution_count": 36,
     "metadata": {},
     "output_type": "execute_result"
    }
   ],
   "source": [
    "CO2MinMax.describe()"
   ]
  },
  {
   "cell_type": "code",
   "execution_count": 38,
   "id": "e592db45-8069-4ab9-be16-3cc19028e4f8",
   "metadata": {},
   "outputs": [
    {
     "data": {
      "text/plain": [
       "<Axes: ylabel='Frequency'>"
      ]
     },
     "execution_count": 38,
     "metadata": {},
     "output_type": "execute_result"
    },
    {
     "data": {
      "image/png": "[encoded data removed]",
      "text/plain": [
       "<Figure size 1000x600 with 1 Axes>"
      ]
     },
     "metadata": {},
     "output_type": "display_data"
    }
   ],
   "source": [
    "CO2MinMax.plot( kind = 'hist',figsize = (10, 6))"
   ]
  },
  {
   "cell_type": "markdown",
   "id": "2766f862-936e-4b1c-a402-5873342908bb",
   "metadata": {},
   "source": [
    "##### See now CO2 column is normalized and no any chang in histrogram also, it was the purpose."
   ]
  }
 ],
 "metadata": {
  "kernelspec": {
   "display_name": "Python [conda env:base] *",
   "language": "python",
   "name": "conda-base-py"
  },
  "language_info": {
   "codemirror_mode": {
    "name": "ipython",
    "version": 3
   },
   "file_extension": ".py",
   "mimetype": "text/x-python",
   "name": "python",
   "nbconvert_exporter": "python",
   "pygments_lexer": "ipython3",
   "version": "3.12.7"
  }
 },
 "nbformat": 4,
 "nbformat_minor": 5
}
